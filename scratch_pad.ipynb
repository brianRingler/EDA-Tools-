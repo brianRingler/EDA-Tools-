{
 "cells": [
  {
   "cell_type": "code",
   "execution_count": 146,
   "metadata": {},
   "outputs": [],
   "source": [
    "import numpy as np\n",
    "import matplotlib.pyplot as plt\n",
    "import pandas as pd"
   ]
  },
  {
   "cell_type": "code",
   "execution_count": 147,
   "metadata": {},
   "outputs": [
    {
     "data": {
      "text/html": [
       "<div>\n",
       "<style scoped>\n",
       "    .dataframe tbody tr th:only-of-type {\n",
       "        vertical-align: middle;\n",
       "    }\n",
       "\n",
       "    .dataframe tbody tr th {\n",
       "        vertical-align: top;\n",
       "    }\n",
       "\n",
       "    .dataframe thead th {\n",
       "        text-align: right;\n",
       "    }\n",
       "</style>\n",
       "<table border=\"1\" class=\"dataframe\">\n",
       "  <thead>\n",
       "    <tr style=\"text-align: right;\">\n",
       "      <th></th>\n",
       "      <th>score</th>\n",
       "    </tr>\n",
       "  </thead>\n",
       "  <tbody>\n",
       "    <tr>\n",
       "      <th>0</th>\n",
       "      <td>25.104179</td>\n",
       "    </tr>\n",
       "  </tbody>\n",
       "</table>\n",
       "</div>"
      ],
      "text/plain": [
       "       score\n",
       "0  25.104179"
      ]
     },
     "execution_count": 147,
     "metadata": {},
     "output_type": "execute_result"
    }
   ],
   "source": [
    "df = pd.read_csv('klout_scores.csv',header=None,names=['score'])\n",
    "df.head(1)"
   ]
  },
  {
   "cell_type": "code",
   "execution_count": 291,
   "metadata": {},
   "outputs": [],
   "source": [
    "class OptionsHist():\n",
    "    \n",
    "    def __init__(self, dataframe, col_name, x_name, \n",
    "                 y_name):\n",
    "        self.dataframe = dataframe\n",
    "        self.col_name = col_name\n",
    "        self.x_name = plt.xlabel(x_name,fontsize=14)\n",
    "        self.y_name = plt.ylabel(y_name,fontsize=14)\n",
    "        self.bins = ''\n",
    "        self.mu_line = plt.axvline(np.mean(dataframe[col_name]),color='r',\n",
    "                                  linestyle='--',lw=2,label='Mean')\n",
    "        self.median_line = plt.axvline(np.median(dataframe[col_name]),color='y',\n",
    "                                  linestyle='--',lw=2,label='Median')\n",
    "        self.xticks = plt.xticks(fontsize=14)\n",
    "        self.yticks = plt.yticks(fontsize=14)\n",
    "        self.legend = plt.legend(fontsize=14) \n",
    "        \n"
   ]
  },
  {
   "cell_type": "code",
   "execution_count": 292,
   "metadata": {},
   "outputs": [],
   "source": [
    "class Hist(OptionsHist):\n",
    "    def __init__(self, dataframe, col_name, x_name, \n",
    "                 y_name):\n",
    "        OptionsHist.__init__(self, dataframe, col_name, x_name, \n",
    "                 y_name)\n",
    "\n",
    "        plt.hist(dataframe[col_name])\n",
    "\n",
    "class HistBins(OptionsHist):\n",
    "    def __init__(self, dataframe, col_name, x_name, \n",
    "                 y_name,start, stop,binsize):\n",
    "        OptionsHist.__init__(self, dataframe, col_name, x_name, \n",
    "                 y_name)\n",
    "        self.start = start\n",
    "        self.stop = stop\n",
    "        self.binsize = binsize\n",
    "        self.bin_edges = np.arange(self.start, self.stop + self.binsize,self.binsize)    \n",
    "        plt.hist(dataframe[col_name],bins=self.bin_edges)"
   ]
  },
  {
   "cell_type": "code",
   "execution_count": 293,
   "metadata": {},
   "outputs": [
    {
     "data": {
      "image/png": "[encoded data removed]",
      "text/plain": [
       "<Figure size 432x288 with 1 Axes>"
      ]
     },
     "metadata": {
      "needs_background": "light"
     },
     "output_type": "display_data"
    }
   ],
   "source": [
    "a = Hist(df,'score','Bins','Counts')"
   ]
  },
  {
   "cell_type": "code",
   "execution_count": 294,
   "metadata": {},
   "outputs": [
    {
     "data": {
      "image/png": "[encoded data removed]",
      "text/plain": [
       "<Figure size 432x288 with 1 Axes>"
      ]
     },
     "metadata": {
      "needs_background": "light"
     },
     "output_type": "display_data"
    }
   ],
   "source": [
    "b = HistBins(df,'score','Bins','Counts', 10, 80, 1)"
   ]
  },
  {
   "cell_type": "code",
   "execution_count": 295,
   "metadata": {
    "scrolled": true
   },
   "outputs": [],
   "source": [
    "class HistLog10(OptionsHist):\n",
    "    \"\"\"Create a histogram with logarithmic scale (log10).\n",
    "    Arguments:\n",
    "        OptionsHist {[type]} -- [description]\n",
    "    \"\"\"\n",
    "    def __init__(self, dataframe, col_name, x_name, y_name, start,\n",
    "                x_axis_scale, binsize, thousands = bool):\n",
    "        OptionsHist.__init__(self, dataframe, col_name, x_name, \n",
    "                 y_name)\n",
    "        \n",
    "        self.start = start\n",
    "        self.x_axis_scale = [] # list of values provided by user for x axis\n",
    "        self.binsize = binsize #  will set the interval of bins\n",
    "        self.log_data = np.log10(dataframe[col_name]) # direct data transform\n",
    "        self.log_bin_edges = np.arange(self.start, self.log_data.max() + self.binsize, self.binsize)\n",
    "        \n",
    "        self.mu_line = plt.axvline(np.mean(self.log_data),color='r',\n",
    "                                  linestyle='--',lw=2,label='Mean')\n",
    "        \n",
    "        self.median_line = plt.axvline(np.median(self.log_data),color='y',\n",
    "                                  linestyle='--',lw=2,label='Median')\n",
    "        \n",
    "        self.thousands = thousands\n",
    "        self.convert_ticks = ''\n",
    "        self.converted_labels = ''\n",
    "        \n",
    "        # FIRST plot histogram then plot xscale and xticks otherwise x-axis will be logarithmic\n",
    "        plt.hist(self.log_data, bins = self.log_bin_edges)\n",
    "        plt.xscale('log')\n",
    "        plt.tick_params(axis='both', which='minor', labelsize=0);\n",
    "        \n",
    "        \n",
    "        # ticks is base 10 used to set the axis. Show either base converted or non converted values\n",
    "        self.xticks = plt.xticks(ticks = self.x_axis_scale, labels = self.converted_labels)\n",
    "\n",
    "    def scale_convert(self,list_to_convert):\n",
    "        \"\"\"Convert list of values using NumPy log10(). \n",
    "        Arguments:\n",
    "            list_to_convert {list} -- A list of values used for x or y axis for use\n",
    "            when pandas data has been transformed. \n",
    "        Returns:\n",
    "            [numpy list] -- A list of converted values using Numpy log10.\n",
    "        \"\"\"\n",
    "        converted = np.array(list_to_convert)\n",
    "        converted_ln = np.log10(converted)\n",
    "        converted_ln = [round(i,2) for i in converted_ln]\n",
    "        self.x_axis_scale = converted_ln\n",
    "\n",
    "    def convert_thousands(self, list_to_convert):\n",
    "        \"\"\"Convert the x axis scale to thousands. Convert if bool thousands is True.\n",
    "\n",
    "        Arguments:\n",
    "            list_to_convert {list} -- The list of values to be converted to thousands\n",
    "        Returns:\n",
    "            [list] -- Will return a list that will be converted or not based self.thousands bool\n",
    "        \"\"\"\n",
    "        if self.thousands == True:\n",
    "            list_to_convert = np.array(list_to_convert)\n",
    "            converted = list_to_convert / 1000\n",
    "            converted_values = [int(i) for i in converted]\n",
    "            self.convert_labels =  converted_values \n",
    "\n"
   ]
  },
  {
   "cell_type": "code",
   "execution_count": 296,
   "metadata": {},
   "outputs": [
    {
     "data": {
      "image/png": "[encoded data removed]",
      "text/plain": [
       "<Figure size 432x288 with 1 Axes>"
      ]
     },
     "metadata": {
      "needs_background": "light"
     },
     "output_type": "display_data"
    }
   ],
   "source": [
    "scale = np.arange(10, 80, 5, dtype='int_')\n",
    "k = HistLog10(df,'score','x axis','y-axis',1,scale,0.05,True)"
   ]
  },
  {
   "cell_type": "code",
   "execution_count": 297,
   "metadata": {},
   "outputs": [
    {
     "name": "stdout",
     "output_type": "stream",
     "text": [
      "[10 15 20 25 30 35 40 45 50 55 60 65 70 75]\n"
     ]
    }
   ],
   "source": [
    "scale = np.arange(10, 80, 5, dtype='int_')\n",
    "def scale_convert(scale_convert):\n",
    "    '''Scale converter takes a list of integers and converts the values using Numpy\n",
    "    log10(). '''\n",
    "    np_list_int = np.array(list_int)\n",
    "    log_values = np.log10(np_list_int)\n",
    "    converted_values_log10 = [round(i,2) for i in log_values]\n",
    "    return converted_values_log10\n",
    "print(scale)"
   ]
  },
  {
   "cell_type": "code",
   "execution_count": 287,
   "metadata": {},
   "outputs": [
    {
     "name": "stdout",
     "output_type": "stream",
     "text": [
      "0.06250437595655\n"
     ]
    }
   ],
   "source": [
    "new = [np.log10(i) for i in scale]\n",
    "print((max(new) - min(new)) / len(new))"
   ]
  },
  {
   "cell_type": "code",
   "execution_count": 187,
   "metadata": {},
   "outputs": [
    {
     "data": {
      "text/plain": [
       "['__class__',\n",
       " '__delattr__',\n",
       " '__dict__',\n",
       " '__dir__',\n",
       " '__doc__',\n",
       " '__eq__',\n",
       " '__format__',\n",
       " '__ge__',\n",
       " '__getattribute__',\n",
       " '__gt__',\n",
       " '__hash__',\n",
       " '__init__',\n",
       " '__init_subclass__',\n",
       " '__le__',\n",
       " '__lt__',\n",
       " '__module__',\n",
       " '__ne__',\n",
       " '__new__',\n",
       " '__reduce__',\n",
       " '__reduce_ex__',\n",
       " '__repr__',\n",
       " '__setattr__',\n",
       " '__sizeof__',\n",
       " '__str__',\n",
       " '__subclasshook__',\n",
       " '__weakref__',\n",
       " 'change_xtick']"
      ]
     },
     "execution_count": 187,
     "metadata": {},
     "output_type": "execute_result"
    }
   ],
   "source": [
    "dir(Hist)"
   ]
  },
  {
   "cell_type": "code",
   "execution_count": null,
   "metadata": {},
   "outputs": [],
   "source": [
    "dir(OptionsHist)"
   ]
  },
  {
   "cell_type": "code",
   "execution_count": null,
   "metadata": {},
   "outputs": [],
   "source": [
    "OptionsHist.__dict__"
   ]
  },
  {
   "cell_type": "code",
   "execution_count": null,
   "metadata": {},
   "outputs": [],
   "source": [
    "o = object()\n",
    "o"
   ]
  },
  {
   "cell_type": "code",
   "execution_count": null,
   "metadata": {},
   "outputs": [],
   "source": []
  }
 ],
 "metadata": {
  "hide_input": false,
  "kernelspec": {
   "display_name": "Python 3",
   "language": "python",
   "name": "python3"
  },
  "language_info": {
   "codemirror_mode": {
    "name": "ipython",
    "version": 3
   },
   "file_extension": ".py",
   "mimetype": "text/x-python",
   "name": "python",
   "nbconvert_exporter": "python",
   "pygments_lexer": "ipython3",
   "version": "3.7.7"
  },
  "latex_envs": {
   "LaTeX_envs_menu_present": true,
   "autoclose": false,
   "autocomplete": true,
   "bibliofile": "biblio.bib",
   "cite_by": "apalike",
   "current_citInitial": 1,
   "eqLabelWithNumbers": true,
   "eqNumInitial": 1,
   "hotkeys": {
    "equation": "Ctrl-E",
    "itemize": "Ctrl-I"
   },
   "labels_anchors": false,
   "latex_user_defs": false,
   "report_style_numbering": false,
   "user_envs_cfg": false
  },
  "toc": {
   "base_numbering": 1,
   "nav_menu": {},
   "number_sections": true,
   "sideBar": true,
   "skip_h1_title": false,
   "title_cell": "Table of Contents",
   "title_sidebar": "Contents",
   "toc_cell": false,
   "toc_position": {},
   "toc_section_display": true,
   "toc_window_display": false
  },
  "varInspector": {
   "cols": {
    "lenName": 16,
    "lenType": 16,
    "lenVar": 40
   },
   "kernels_config": {
    "python": {
     "delete_cmd_postfix": "",
     "delete_cmd_prefix": "del ",
     "library": "var_list.py",
     "varRefreshCmd": "print(var_dic_list())"
    },
    "r": {
     "delete_cmd_postfix": ") ",
     "delete_cmd_prefix": "rm(",
     "library": "var_list.r",
     "varRefreshCmd": "cat(var_dic_list()) "
    }
   },
   "types_to_exclude": [
    "module",
    "function",
    "builtin_function_or_method",
    "instance",
    "_Feature"
   ],
   "window_display": false
  }
 },
 "nbformat": 4,
 "nbformat_minor": 4
}
